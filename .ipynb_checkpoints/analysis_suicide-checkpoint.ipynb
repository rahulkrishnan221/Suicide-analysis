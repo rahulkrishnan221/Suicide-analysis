{
 "cells": [
  {
   "cell_type": "markdown",
   "metadata": {},
   "source": [
    "# Aim of the analysis is to classsify Suicides in India "
   ]
  },
  {
   "cell_type": "markdown",
   "metadata": {},
   "source": [
    "We will analyse the different causes for suicides based on their different education status, professional satus, social status, gender, age and the means they have adopted."
   ]
  },
  {
   "cell_type": "markdown",
   "metadata": {},
   "source": [
    "## Suicides in India\n",
    "   About 800,000 people commit suicide worldwide every year, of these 135,000 (17%) are residents of India, a nation with 17.5% of world population.\n",
    "\n",
    "## Suicides Data Set\n",
    "   The data set consist of 1300 data of year 2001 to 2005 of Males and Females of different education status, professional satus, social status and age with different causes and means adopted. \n",
    "        \n",
    "       \n",
    "\n"
   ]
  },
  {
   "cell_type": "markdown",
   "metadata": {},
   "source": [
    "## Attribute Information :\n",
    "\n",
    "#### 1.Causes \n",
    "##### The Causes are :\n",
    "  Illness (Aids/STD),Bankruptcy or Sudden change in Economic,Cancellation/Non-Settlement of Marriage,Physical Abuse (Rape/Incest Etc.),Dowry Dispute,Ideo,Fall in Social Reputationlogical Causes/Hero Worshipping, Family Problems,Death of Dear Person, Poverty, Property Dispute, Unemployment, Fall in Social Reputation, Failure in Examination,Divorce.\n",
    "##### 2.Education_status\n",
    "##### The Education Status are:\n",
    "No Education, Primary, Middle, Secondary, Hr. Secondary, Diploma, Graduate, Post Graduate\n",
    "#### 3.Means adopted\n",
    "###### The Means Adopted are:\n",
    "By Hanging, By Consuming Other Poison, By Fire/Self Immolation, By Drowning, By Overdose of sleeping pills, By Over Alcoholism, By Machine, By Self Infliction of injury, By Jumping from (Other sites), By Jumping off Moving Vehicles/Trains, By Consuming Insecticides, By Fire-Arms\n",
    "#### 4.Professional_Profile\n",
    "###### The Professional Profile are:\n",
    "Student, House Wife, Farming/Agriculture Activity, Unemployed, Professional Activity, Self Employed, Public Sector Undertaking, Service (Private), House Wife or Others, Service (Goverment), Others, Retired Person, Unemployement,\n",
    "Student, Others (Please Specify)\n",
    "#### 5. Social_Status\n",
    "###### The Social Status are:\n",
    "Never Married, Divorcee, Widowed, Married, Seperated, Widowed/Widower\n",
    "#### 6.Gender\n",
    "###### The Gender are:\n",
    " F(Female), M(Male)\n",
    "#### 7.Age_group\n",
    "###### The Age Group are:\n",
    " 0-14, 15-29, 30-44, 45-59, 60+"
   ]
  },
  {
   "cell_type": "code",
   "execution_count": 2,
   "metadata": {
    "scrolled": true
   },
   "outputs": [
    {
     "data": {
      "text/plain": [
       "'C:\\\\Users\\\\rahul\\\\Documents\\\\Suicide-analysis'"
      ]
     },
     "execution_count": 2,
     "metadata": {},
     "output_type": "execute_result"
    }
   ],
   "source": [
    "# import all essential EDA packages in Python\n",
    "\n",
    "import os\n",
    "import pandas as pd\n",
    "import numpy as np\n",
    "import matplotlib as mp\n",
    "import seaborn as sb\n",
    "os.getcwd()"
   ]
  },
  {
   "cell_type": "code",
   "execution_count": 3,
   "metadata": {},
   "outputs": [],
   "source": [
    "df=pd.read_csv('data.csv')  #loading data set"
   ]
  },
  {
   "cell_type": "code",
   "execution_count": 4,
   "metadata": {},
   "outputs": [
    {
     "data": {
      "text/html": [
       "<div>\n",
       "<style scoped>\n",
       "    .dataframe tbody tr th:only-of-type {\n",
       "        vertical-align: middle;\n",
       "    }\n",
       "\n",
       "    .dataframe tbody tr th {\n",
       "        vertical-align: top;\n",
       "    }\n",
       "\n",
       "    .dataframe thead th {\n",
       "        text-align: right;\n",
       "    }\n",
       "</style>\n",
       "<table border=\"1\" class=\"dataframe\">\n",
       "  <thead>\n",
       "    <tr style=\"text-align: right;\">\n",
       "      <th></th>\n",
       "      <th>State/UT</th>\n",
       "      <th>Year</th>\n",
       "      <th>Causes</th>\n",
       "      <th>Education_status</th>\n",
       "      <th>Means adopted</th>\n",
       "      <th>Professional_Profile</th>\n",
       "      <th>Social_Status</th>\n",
       "      <th>Gender</th>\n",
       "      <th>Age_group</th>\n",
       "      <th>Number of suicides</th>\n",
       "    </tr>\n",
       "  </thead>\n",
       "  <tbody>\n",
       "    <tr>\n",
       "      <th>0</th>\n",
       "      <td>A &amp; N Islands</td>\n",
       "      <td>2001</td>\n",
       "      <td>Illness (Aids/STD)</td>\n",
       "      <td>Primary</td>\n",
       "      <td>No</td>\n",
       "      <td>Student</td>\n",
       "      <td>Never Married</td>\n",
       "      <td>F</td>\n",
       "      <td>0-14</td>\n",
       "      <td>0</td>\n",
       "    </tr>\n",
       "    <tr>\n",
       "      <th>1</th>\n",
       "      <td>A &amp; N Islands</td>\n",
       "      <td>2001</td>\n",
       "      <td>Bankruptcy or Sudden change in Economic</td>\n",
       "      <td>Primary</td>\n",
       "      <td>No</td>\n",
       "      <td>Student</td>\n",
       "      <td>Never Married</td>\n",
       "      <td>F</td>\n",
       "      <td>0-14</td>\n",
       "      <td>0</td>\n",
       "    </tr>\n",
       "    <tr>\n",
       "      <th>2</th>\n",
       "      <td>A &amp; N Islands</td>\n",
       "      <td>2001</td>\n",
       "      <td>Cancellation/Non-Settlement of Marriage</td>\n",
       "      <td>Middle</td>\n",
       "      <td>No</td>\n",
       "      <td>Student</td>\n",
       "      <td>Never Married</td>\n",
       "      <td>F</td>\n",
       "      <td>0-14</td>\n",
       "      <td>0</td>\n",
       "    </tr>\n",
       "    <tr>\n",
       "      <th>3</th>\n",
       "      <td>A &amp; N Islands</td>\n",
       "      <td>2001</td>\n",
       "      <td>Physical Abuse (Rape/Incest Etc.)</td>\n",
       "      <td>Primary</td>\n",
       "      <td>No</td>\n",
       "      <td>Student</td>\n",
       "      <td>Never Married</td>\n",
       "      <td>F</td>\n",
       "      <td>0-14</td>\n",
       "      <td>0</td>\n",
       "    </tr>\n",
       "    <tr>\n",
       "      <th>4</th>\n",
       "      <td>A &amp; N Islands</td>\n",
       "      <td>2001</td>\n",
       "      <td>Dowry Dispute</td>\n",
       "      <td>Middle</td>\n",
       "      <td>No</td>\n",
       "      <td>Student</td>\n",
       "      <td>Never Married</td>\n",
       "      <td>F</td>\n",
       "      <td>0-14</td>\n",
       "      <td>0</td>\n",
       "    </tr>\n",
       "  </tbody>\n",
       "</table>\n",
       "</div>"
      ],
      "text/plain": [
       "        State/UT  Year                                   Causes  \\\n",
       "0  A & N Islands  2001                       Illness (Aids/STD)   \n",
       "1  A & N Islands  2001  Bankruptcy or Sudden change in Economic   \n",
       "2  A & N Islands  2001  Cancellation/Non-Settlement of Marriage   \n",
       "3  A & N Islands  2001        Physical Abuse (Rape/Incest Etc.)   \n",
       "4  A & N Islands  2001                            Dowry Dispute   \n",
       "\n",
       "  Education_status Means adopted Professional_Profile  Social_Status Gender  \\\n",
       "0          Primary            No              Student  Never Married      F   \n",
       "1          Primary            No              Student  Never Married      F   \n",
       "2           Middle            No              Student  Never Married      F   \n",
       "3          Primary            No              Student  Never Married      F   \n",
       "4           Middle            No              Student  Never Married      F   \n",
       "\n",
       "  Age_group  Number of suicides  \n",
       "0      0-14                   0  \n",
       "1      0-14                   0  \n",
       "2      0-14                   0  \n",
       "3      0-14                   0  \n",
       "4      0-14                   0  "
      ]
     },
     "execution_count": 4,
     "metadata": {},
     "output_type": "execute_result"
    }
   ],
   "source": [
    "df.head(5)     # Observing the top five observations in each variable"
   ]
  },
  {
   "cell_type": "code",
   "execution_count": 5,
   "metadata": {},
   "outputs": [
    {
     "name": "stdout",
     "output_type": "stream",
     "text": [
      "<class 'pandas.core.frame.DataFrame'>\n",
      "RangeIndex: 1300 entries, 0 to 1299\n",
      "Data columns (total 10 columns):\n",
      "State/UT                1300 non-null object\n",
      "Year                    1300 non-null int64\n",
      "Causes                  1300 non-null object\n",
      "Education_status        1300 non-null object\n",
      "Means adopted           1300 non-null object\n",
      "Professional_Profile    1300 non-null object\n",
      "Social_Status           1300 non-null object\n",
      "Gender                  1300 non-null object\n",
      "Age_group               1300 non-null object\n",
      "Number of suicides      1300 non-null int64\n",
      "dtypes: int64(2), object(8)\n",
      "memory usage: 101.6+ KB\n"
     ]
    }
   ],
   "source": [
    "df.info() # Analysing the types of variables"
   ]
  },
  {
   "cell_type": "markdown",
   "metadata": {},
   "source": [
    "###### The data set does not contain any noise (missing vaules). So this data set is well balanced"
   ]
  },
  {
   "cell_type": "code",
   "execution_count": 7,
   "metadata": {
    "scrolled": false
   },
   "outputs": [
    {
     "data": {
      "text/plain": [
       "State/UT                0\n",
       "Year                    0\n",
       "Causes                  0\n",
       "Education_status        0\n",
       "Means adopted           0\n",
       "Professional_Profile    0\n",
       "Social_Status           0\n",
       "Gender                  0\n",
       "Age_group               0\n",
       "Number of suicides      0\n",
       "dtype: int64"
      ]
     },
     "execution_count": 7,
     "metadata": {},
     "output_type": "execute_result"
    }
   ],
   "source": [
    "df.isnull().sum()"
   ]
  },
  {
   "cell_type": "markdown",
   "metadata": {},
   "source": [
    "##### There are no missing values present, so we can now proceed with univariate analysis"
   ]
  },
  {
   "cell_type": "code",
   "execution_count": 8,
   "metadata": {},
   "outputs": [
    {
     "data": {
      "text/html": [
       "<div>\n",
       "<style scoped>\n",
       "    .dataframe tbody tr th:only-of-type {\n",
       "        vertical-align: middle;\n",
       "    }\n",
       "\n",
       "    .dataframe tbody tr th {\n",
       "        vertical-align: top;\n",
       "    }\n",
       "\n",
       "    .dataframe thead th {\n",
       "        text-align: right;\n",
       "    }\n",
       "</style>\n",
       "<table border=\"1\" class=\"dataframe\">\n",
       "  <thead>\n",
       "    <tr style=\"text-align: right;\">\n",
       "      <th></th>\n",
       "      <th>Year</th>\n",
       "      <th>Number of suicides</th>\n",
       "    </tr>\n",
       "  </thead>\n",
       "  <tbody>\n",
       "    <tr>\n",
       "      <th>count</th>\n",
       "      <td>1300.000000</td>\n",
       "      <td>1300.000000</td>\n",
       "    </tr>\n",
       "    <tr>\n",
       "      <th>mean</th>\n",
       "      <td>2003.000000</td>\n",
       "      <td>0.497692</td>\n",
       "    </tr>\n",
       "    <tr>\n",
       "      <th>std</th>\n",
       "      <td>1.414758</td>\n",
       "      <td>1.454200</td>\n",
       "    </tr>\n",
       "    <tr>\n",
       "      <th>min</th>\n",
       "      <td>2001.000000</td>\n",
       "      <td>0.000000</td>\n",
       "    </tr>\n",
       "    <tr>\n",
       "      <th>25%</th>\n",
       "      <td>2002.000000</td>\n",
       "      <td>0.000000</td>\n",
       "    </tr>\n",
       "    <tr>\n",
       "      <th>50%</th>\n",
       "      <td>2003.000000</td>\n",
       "      <td>0.000000</td>\n",
       "    </tr>\n",
       "    <tr>\n",
       "      <th>75%</th>\n",
       "      <td>2004.000000</td>\n",
       "      <td>0.000000</td>\n",
       "    </tr>\n",
       "    <tr>\n",
       "      <th>max</th>\n",
       "      <td>2005.000000</td>\n",
       "      <td>13.000000</td>\n",
       "    </tr>\n",
       "  </tbody>\n",
       "</table>\n",
       "</div>"
      ],
      "text/plain": [
       "              Year  Number of suicides\n",
       "count  1300.000000         1300.000000\n",
       "mean   2003.000000            0.497692\n",
       "std       1.414758            1.454200\n",
       "min    2001.000000            0.000000\n",
       "25%    2002.000000            0.000000\n",
       "50%    2003.000000            0.000000\n",
       "75%    2004.000000            0.000000\n",
       "max    2005.000000           13.000000"
      ]
     },
     "execution_count": 8,
     "metadata": {},
     "output_type": "execute_result"
    }
   ],
   "source": [
    "df.describe()"
   ]
  },
  {
   "cell_type": "code",
   "execution_count": null,
   "metadata": {},
   "outputs": [],
   "source": [
    "#Total suicide happend\n",
    "print(\"Total Suicides\")\n",
    "print(df['Number of suicides'].sum())\n",
    "\n",
    "#preprocessing data with F & M with 0 and 1\n",
    "df[\"Gender_binary\"]=df[\"Gender\"].replace(to_replace=\"M\",value=0)\n",
    "df[\"Gender_binary\"]=df[\"Gender_binary\"].replace(to_replace=\"F\",value=1)\n",
    "\n",
    "#Two more attributes added Female_suicide & Male_suicide\n",
    "df.loc[(df['Gender'] == \"F\") & (df['Number of suicides'] >0),\"Female_suicide\"]=df['Number of suicides']\n",
    "df.loc[(df['Gender'] == \"M\") & (df['Number of suicides'] >0),\"Male_suicide\"]=df['Number of suicides']\n",
    "\n",
    "\n",
    "#Filling NaN value with 0\n",
    "df[\"Female_suicide\"]=df[\"Female_suicide\"].fillna(0)\n",
    "df[\"Male_suicide\"]=df[\"Male_suicide\"].fillna(0)\n",
    "\n",
    "\n",
    "#Total Female Suicides\n",
    "print(\"Total Female suicides\")\n",
    "print(df[\"Female_suicide\"].sum())\n",
    "\n",
    "\n",
    "#Total Male Suicides\n",
    "print(\"Total Male suicides\")\n",
    "print(df[\"Male_suicide\"].sum())\n",
    "\n",
    "#Preprocessing Mapping social status with number dict comprehension\n",
    "x={k:v for (k,v) in zip(df['Social_Status'].unique(),[m for m in range(6)])}\n",
    "\n",
    "#New feature with mapping with number\n",
    "df['Social_status_number']=df['Social_Status'].map(x)"
   ]
  },
  {
   "cell_type": "code",
   "execution_count": null,
   "metadata": {},
   "outputs": [],
   "source": []
  }
 ],
 "metadata": {
  "kernelspec": {
   "display_name": "Python 3",
   "language": "python",
   "name": "python3"
  },
  "language_info": {
   "codemirror_mode": {
    "name": "ipython",
    "version": 3
   },
   "file_extension": ".py",
   "mimetype": "text/x-python",
   "name": "python",
   "nbconvert_exporter": "python",
   "pygments_lexer": "ipython3",
   "version": "3.6.2"
  }
 },
 "nbformat": 4,
 "nbformat_minor": 2
}
