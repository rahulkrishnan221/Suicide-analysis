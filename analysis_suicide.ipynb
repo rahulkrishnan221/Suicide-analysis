{
 "cells": [
  {
   "cell_type": "markdown",
   "metadata": {},
   "source": [
    "# Aim of the analysis is to classsify Suicides in India "
   ]
  },
  {
   "cell_type": "markdown",
   "metadata": {},
   "source": [
    "We will analyse the different causes for suicides based on their different education status, professional satus, social status, gender, age and the means they have adopted."
   ]
  },
  {
   "attachments": {},
   "cell_type": "markdown",
   "metadata": {},
   "source": [
    "## Suicides in India\n",
    "   About 800,000 people commit suicide worldwide every year, of these 135,000 (17%) are residents of India, a nation with 17.5% of world population.\n",
    "\n",
    "## Suicides Data Set\n",
    "   The data set consist of 1300 data of year 2001 to 2005 of Males and Females of different education status, professional satus, social status and age with different causes and means adopted. \n",
    "        \n",
    "       \n",
    "\n"
   ]
  },
  {
   "cell_type": "markdown",
   "metadata": {},
   "source": [
    "## Attribute Information :\n",
    "\n",
    "#### 1.Causes \n",
    "##### The Causes are :\n",
    "  Illness (Aids/STD),Bankruptcy or Sudden change in Economic,Cancellation/Non-Settlement of Marriage,Physical Abuse (Rape/Incest Etc.),Dowry Dispute,Ideo,Fall in Social Reputationlogical Causes/Hero Worshipping, Family Problems,Death of Dear Person, Poverty, Property Dispute, Unemployment, Fall in Social Reputation, Failure in Examination,Divorce.\n",
    "##### 2.Education_status\n",
    "##### The Education Status are:\n",
    "No Education, Primary, Middle, Secondary, Hr. Secondary, Diploma, Graduate, Post Graduate\n",
    "#### 3.Means adopted\n",
    "###### The Means Adopted are:\n",
    "By Hanging, By Consuming Other Poison, By Fire/Self Immolation, By Drowning, By Overdose of sleeping pills, By Over Alcoholism, By Machine, By Self Infliction of injury, By Jumping from (Other sites), By Jumping off Moving Vehicles/Trains, By Consuming Insecticides, By Fire-Arms\n",
    "#### 4.Professional_Profile\n",
    "###### The Professional Profile are:\n",
    "Student, House Wife, Farming/Agriculture Activity, Unemployed, Professional Activity, Self Employed, Public Sector Undertaking, Service (Private), House Wife or Others, Service (Goverment), Others, Retired Person, Unemployement,\n",
    "Student, Others (Please Specify)\n",
    "#### 5. Social_Status\n",
    "###### The Social Status are:\n",
    "Never Married, Divorcee, Widowed, Married, Seperated, Widowed/Widower\n",
    "#### 6.Gender\n",
    "###### The Gender are:\n",
    " F(Female), M(Male)\n",
    "#### 7.Age_group\n",
    "###### The Age Group are:\n",
    " 0-14, 15-29, 30-44, 45-59, 60+"
   ]
  },
  {
   "cell_type": "code",
   "execution_count": null,
   "metadata": {
    "scrolled": true
   },
   "outputs": [],
   "source": [
    "import pandas as pd\n",
    "df=pd.read_csv('data.csv')\n",
    "df.head()"
   ]
  },
  {
   "cell_type": "code",
   "execution_count": null,
   "metadata": {},
   "outputs": [],
   "source": [
    "df.describe()"
   ]
  },
  {
   "cell_type": "code",
   "execution_count": null,
   "metadata": {},
   "outputs": [],
   "source": [
    "df['Professional_Profile'].unique()"
   ]
  },
  {
   "cell_type": "code",
   "execution_count": null,
   "metadata": {},
   "outputs": [],
   "source": []
  },
  {
   "cell_type": "code",
   "execution_count": null,
   "metadata": {},
   "outputs": [],
   "source": []
  }
 ],
 "metadata": {
  "kernelspec": {
   "display_name": "Python 3",
   "language": "python",
   "name": "python3"
  },
  "language_info": {
   "codemirror_mode": {
    "name": "ipython",
    "version": 3
   },
   "file_extension": ".py",
   "mimetype": "text/x-python",
   "name": "python",
   "nbconvert_exporter": "python",
   "pygments_lexer": "ipython3",
   "version": "3.6.6"
  }
 },
 "nbformat": 4,
 "nbformat_minor": 2
}
