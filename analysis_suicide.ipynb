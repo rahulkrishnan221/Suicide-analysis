{
 "cells": [
  {
   "cell_type": "markdown",
   "metadata": {},
   "source": [
    "# Aim of the analysis is to classsify Suicides in India "
   ]
  },
  {
   "cell_type": "markdown",
   "metadata": {},
   "source": [
    "We will analyse the different causes for suicides based on their different education status, professional satus, social status, gender, age and the means they have adopted."
   ]
  },
  {
   "cell_type": "markdown",
   "metadata": {},
   "source": [
    "## Suicides in India\n",
    "   About 800,000 people commit suicide worldwide every year, of these 135,000 (17%) are residents of India, a nation with 17.5% of world population.\n",
    "\n",
    "## Suicides Data Set\n",
    "   The data set consist of 1300 data of year 2001 to 2005 of Males and Females of different education status, professional satus, social status and age with different causes and means adopted. \n",
    "        \n",
    "       \n",
    "\n"
   ]
  },
  {
   "cell_type": "markdown",
   "metadata": {},
   "source": [
    "## Attribute Information :\n",
    "\n",
    "#### 1.Causes \n",
    "##### The Causes are :\n",
    "  Illness (Aids/STD),Bankruptcy or Sudden change in Economic,Cancellation/Non-Settlement of Marriage,Physical Abuse (Rape/Incest Etc.),Dowry Dispute,Ideo,Fall in Social Reputationlogical Causes/Hero Worshipping, Family Problems,Death of Dear Person, Poverty, Property Dispute, Unemployment, Fall in Social Reputation, Failure in Examination,Divorce.\n",
    "##### 2.Education_status\n",
    "##### The Education Status are:\n",
    "No Education, Primary, Middle, Secondary, Hr. Secondary, Diploma, Graduate, Post Graduate\n",
    "#### 3.Means adopted\n",
    "###### The Means Adopted are:\n",
    "By Hanging, By Consuming Other Poison, By Fire/Self Immolation, By Drowning, By Overdose of sleeping pills, By Over Alcoholism, By Machine, By Self Infliction of injury, By Jumping from (Other sites), By Jumping off Moving Vehicles/Trains, By Consuming Insecticides, By Fire-Arms\n",
    "#### 4.Professional_Profile\n",
    "###### The Professional Profile are:\n",
    "Student, House Wife, Farming/Agriculture Activity, Unemployed, Professional Activity, Self Employed, Public Sector Undertaking, Service (Private), House Wife or Others, Service (Goverment), Others, Retired Person, Unemployement,\n",
    "Student, Others (Please Specify)\n",
    "#### 5. Social_Status\n",
    "###### The Social Status are:\n",
    "Never Married, Divorcee, Widowed, Married, Seperated, Widowed/Widower\n",
    "#### 6.Gender\n",
    "###### The Gender are:\n",
    " F(Female), M(Male)\n",
    "#### 7.Age_group\n",
    "###### The Age Group are:\n",
    " 0-14, 15-29, 30-44, 45-59, 60+"
   ]
  },
  {
   "cell_type": "code",
   "execution_count": null,
   "metadata": {
    "scrolled": true
   },
   "outputs": [],
   "source": [
    "# import all essential EDA packages in Python\n",
    "\n",
    "import os\n",
    "import pandas as pd\n",
    "import numpy as np\n",
    "import matplotlib.pyplot as mp\n",
    "import seaborn as sb\n",
    "os.getcwd()"
   ]
  },
  {
   "cell_type": "code",
   "execution_count": null,
   "metadata": {},
   "outputs": [],
   "source": [
    "df=pd.read_csv('data.csv')  #loading data set"
   ]
  },
  {
   "cell_type": "code",
   "execution_count": null,
   "metadata": {},
   "outputs": [],
   "source": [
    "df.head(5)     # Observing the top five observations in each variable"
   ]
  },
  {
   "cell_type": "code",
   "execution_count": null,
   "metadata": {},
   "outputs": [],
   "source": [
    "df.info() # Analysing the types of variables"
   ]
  },
  {
   "cell_type": "markdown",
   "metadata": {},
   "source": [
    "###### The data set does not contain any noise (missing vaules). So this data set is well balanced"
   ]
  },
  {
   "cell_type": "code",
   "execution_count": null,
   "metadata": {
    "scrolled": false
   },
   "outputs": [],
   "source": [
    "df.isnull().sum()"
   ]
  },
  {
   "cell_type": "markdown",
   "metadata": {},
   "source": [
    "##### There are no missing values present, so we can now proceed with univariate analysis"
   ]
  },
  {
   "cell_type": "code",
   "execution_count": null,
   "metadata": {
    "scrolled": true
   },
   "outputs": [],
   "source": [
    "df.describe()"
   ]
  },
  {
   "cell_type": "markdown",
   "metadata": {},
   "source": [
    "#### Total number of Suicides"
   ]
  },
  {
   "cell_type": "code",
   "execution_count": null,
   "metadata": {},
   "outputs": [],
   "source": [
    "df['Number of suicides'].sum()"
   ]
  },
  {
   "cell_type": "code",
   "execution_count": null,
   "metadata": {},
   "outputs": [],
   "source": [
    "#preprocessing data with F & M with 0 and 1\n",
    "df[\"Gender_binary\"]=df[\"Gender\"].replace(to_replace=\"M\",value=0)\n",
    "df[\"Gender_binary\"]=df[\"Gender_binary\"].replace(to_replace=\"F\",value=1)"
   ]
  },
  {
   "cell_type": "code",
   "execution_count": null,
   "metadata": {},
   "outputs": [],
   "source": [
    "#Two more attributes added Female_suicide & Male_suicide\n",
    "df.loc[(df['Gender'] == \"F\") & (df['Number of suicides'] >0),\"Female_suicide\"]=df['Number of suicides']\n",
    "df.loc[(df['Gender'] == \"M\") & (df['Number of suicides'] >0),\"Male_suicide\"]=df['Number of suicides']\n"
   ]
  },
  {
   "cell_type": "code",
   "execution_count": null,
   "metadata": {},
   "outputs": [],
   "source": [
    "#Filling NaN value with 0\n",
    "df[\"Female_suicide\"]=df[\"Female_suicide\"].fillna(0)\n",
    "df[\"Male_suicide\"]=df[\"Male_suicide\"].fillna(0)"
   ]
  },
  {
   "cell_type": "markdown",
   "metadata": {},
   "source": [
    "#### Total Female Suicides"
   ]
  },
  {
   "cell_type": "code",
   "execution_count": null,
   "metadata": {},
   "outputs": [],
   "source": [
    "df[\"Female_suicide\"].sum()"
   ]
  },
  {
   "cell_type": "markdown",
   "metadata": {},
   "source": [
    "#### Total Male Suicides"
   ]
  },
  {
   "cell_type": "code",
   "execution_count": null,
   "metadata": {},
   "outputs": [],
   "source": [
    "df[\"Male_suicide\"].sum()"
   ]
  },
  {
   "cell_type": "markdown",
   "metadata": {},
   "source": [
    "#### Preprocessing Mapping social status with number dict comprehension"
   ]
  },
  {
   "cell_type": "code",
   "execution_count": null,
   "metadata": {},
   "outputs": [],
   "source": [
    "x={k:v for (k,v) in zip(df['Social_Status'].unique(),[m for m in range(6)])}"
   ]
  },
  {
   "cell_type": "markdown",
   "metadata": {},
   "source": [
    "#### New feature with mapping with number"
   ]
  },
  {
   "cell_type": "code",
   "execution_count": null,
   "metadata": {},
   "outputs": [],
   "source": [
    "df['Social_status_number']=df['Social_Status'].map(x)"
   ]
  },
  {
   "cell_type": "code",
   "execution_count": null,
   "metadata": {},
   "outputs": [],
   "source": [
    "len(df[\"Causes\"].unique())"
   ]
  },
  {
   "cell_type": "markdown",
   "metadata": {},
   "source": [
    "#### Removing 0 suicides row and forming new dataframe"
   ]
  },
  {
   "cell_type": "code",
   "execution_count": null,
   "metadata": {},
   "outputs": [],
   "source": [
    "df_value=df.where(df['Number of suicides']>0)"
   ]
  },
  {
   "cell_type": "markdown",
   "metadata": {},
   "source": [
    "#### Removing NaN"
   ]
  },
  {
   "cell_type": "code",
   "execution_count": null,
   "metadata": {},
   "outputs": [],
   "source": [
    "df_value=df_value.dropna()"
   ]
  },
  {
   "cell_type": "markdown",
   "metadata": {},
   "source": [
    "#### Main Causes of suicides"
   ]
  },
  {
   "cell_type": "code",
   "execution_count": null,
   "metadata": {},
   "outputs": [],
   "source": [
    "df_value[\"Causes\"].unique()\n",
    "causes_sum=[]\n",
    "for i in df_value[\"Causes\"].unique():\n",
    "    causes_sum.append(df.loc[df['Causes'] == i,\"Number of suicides\"].sum(axis=0))"
   ]
  },
  {
   "cell_type": "markdown",
   "metadata": {},
   "source": [
    "#### Representation of Main Causes as graph "
   ]
  },
  {
   "cell_type": "code",
   "execution_count": null,
   "metadata": {
    "scrolled": false
   },
   "outputs": [],
   "source": [
    "import numpy as np\n",
    "fig = mp.figure(figsize=(40,30)) #specify fig size\n",
    "ax = fig.add_subplot(111)\n",
    "width = 0.75 # the width of the bars \n",
    "ind = np.arange(len(t))  # the x locations for the groups\n",
    "# plotting of graph with label\n",
    "ax.barh(ind,causes_sum, width, color=\"grey\",tick_label=df_value[\"Causes\"].unique())\n",
    "ax.set_yticks(ind+width/3)\n",
    "ax.set_yticklabels(df_value[\"Causes\"].unique(), minor=False,size=30)\n",
    "for i, v in enumerate(causes_sum):\n",
    "    ax.text(v+2, i , str(v), color='red', fontweight='bold',size=30)"
   ]
  },
  {
   "cell_type": "code",
   "execution_count": null,
   "metadata": {},
   "outputs": [],
   "source": []
  },
  {
   "cell_type": "code",
   "execution_count": null,
   "metadata": {},
   "outputs": [],
   "source": []
  },
  {
   "cell_type": "code",
   "execution_count": null,
   "metadata": {},
   "outputs": [],
   "source": []
  }
 ],
 "metadata": {
  "kernelspec": {
   "display_name": "Python 3",
   "language": "python",
   "name": "python3"
  },
  "language_info": {
   "codemirror_mode": {
    "name": "ipython",
    "version": 3
   },
   "file_extension": ".py",
   "mimetype": "text/x-python",
   "name": "python",
   "nbconvert_exporter": "python",
   "pygments_lexer": "ipython3",
   "version": "3.6.6"
  }
 },
 "nbformat": 4,
 "nbformat_minor": 2
}
